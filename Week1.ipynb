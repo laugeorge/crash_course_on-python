{
 "cells": [
  {
   "cell_type": "code",
   "execution_count": 1,
   "metadata": {},
   "outputs": [],
   "source": [
    "#Practice Quiz: Introduction to Programming\n",
    "\n",
    "#1. What's a computer program? \n",
    "    #Answer: A list of instructions that the cmputer has to follow to reach a goal\n",
    "    \n",
    "#2. What's the syntax of a language?\n",
    "    #Answer: The rule of how to express things in that language\n",
    "    \n",
    "#3. What's the difference between a program and a script?\n",
    "    #Answer: There's not much difference, but scripts are usually simpler and shorter. \n",
    "    \n",
    "#4. Which of these scenarios are good candidates for automation? Select all that apply.\n",
    "    #Answer: Generating a sales report, split by region and product type\n",
    "    #Answer: Copying a file to all computers in a company\n",
    "    #Answer: Sending personalized emails to subscribers of your website\n",
    "    \n",
    "#5. What are semantics when applied to programming code and pseudocode? \n",
    "    #Answer: The effect the programming instructions have\n",
    "    \n"
   ]
  },
  {
   "cell_type": "code",
   "execution_count": 2,
   "metadata": {},
   "outputs": [
    {
     "name": "stdout",
     "output_type": "stream",
     "text": [
      "Hi Taylor\n",
      "Hi Alex\n",
      "Hi Pat\n",
      "Hi Eli\n"
     ]
    }
   ],
   "source": [
    "friends = ['Taylor', 'Alex', 'Pat', 'Eli']\n",
    "for friend in friends:\n",
    "    print(\"Hi \" + friend)"
   ]
  },
  {
   "cell_type": "code",
   "execution_count": 3,
   "metadata": {},
   "outputs": [],
   "source": [
    "#Python is relevant to today's IT industry.\n",
    "#Answer: Python scripts are easy to write, understand, and maintain.\n",
    "#Answer: Python is available on a wide variety of platforms"
   ]
  },
  {
   "cell_type": "code",
   "execution_count": 4,
   "metadata": {},
   "outputs": [
    {
     "name": "stdout",
     "output_type": "stream",
     "text": [
      "My first Python program\n"
     ]
    }
   ],
   "source": [
    "#Practice Quiz: Introduction to Python\n",
    "#1. Fill in the correct Python command to put \"My first Python program\" onto the screen.\n",
    "print(\"My first Python program\")"
   ]
  },
  {
   "cell_type": "code",
   "execution_count": 5,
   "metadata": {},
   "outputs": [],
   "source": [
    "#2. Python is an example of what type of programming language?\n",
    "    #Answer: General purpose scripting language"
   ]
  },
  {
   "cell_type": "code",
   "execution_count": 6,
   "metadata": {},
   "outputs": [
    {
     "name": "stdout",
     "output_type": "stream",
     "text": [
      "Have a nice day\n"
     ]
    }
   ],
   "source": [
    "#3. Convert this Bash command into Python\n",
    "print(\"Have a nice day\")"
   ]
  },
  {
   "cell_type": "code",
   "execution_count": 7,
   "metadata": {},
   "outputs": [
    {
     "name": "stdout",
     "output_type": "stream",
     "text": [
      "This is fun!\n",
      "This is fun!\n",
      "This is fun!\n",
      "This is fun!\n",
      "This is fun!\n"
     ]
    }
   ],
   "source": [
    "#Fill in the correct Python commands to put \"This is fun\" onto the screen 5 times\n",
    "for i in range(5):\n",
    "    print(\"This is fun!\")"
   ]
  },
  {
   "cell_type": "code",
   "execution_count": 8,
   "metadata": {},
   "outputs": [
    {
     "ename": "SyntaxError",
     "evalue": "invalid syntax (<ipython-input-8-d20aaeb9de90>, line 2)",
     "output_type": "error",
     "traceback": [
      "\u001b[0;36m  File \u001b[0;32m\"<ipython-input-8-d20aaeb9de90>\"\u001b[0;36m, line \u001b[0;32m2\u001b[0m\n\u001b[0;31m    for (let i = 0; i < 10; i++) {\u001b[0m\n\u001b[0m             ^\u001b[0m\n\u001b[0;31mSyntaxError\u001b[0m\u001b[0;31m:\u001b[0m invalid syntax\n"
     ]
    }
   ],
   "source": [
    "#5 Select the Python code snippet that corresponds to the following javascripts snippet:\n",
    "for (let i = 0; i < 10; i++) {\n",
    "    console.log(i);\n",
    "}\n",
    "\n",
    "#Answer\n",
    "for i in range(10):\n",
    "    print(i)\n"
   ]
  },
  {
   "cell_type": "code",
   "execution_count": 9,
   "metadata": {},
   "outputs": [
    {
     "name": "stdout",
     "output_type": "stream",
     "text": [
      "Yellow is the color of Wealth\n"
     ]
    }
   ],
   "source": [
    "#Hello World: Getting Information from the user\n",
    "color = \"Yellow\"\n",
    "thing = \"Wealth\"\n",
    "print(color + \" is the color of \" + thing)"
   ]
  },
  {
   "cell_type": "code",
   "execution_count": 10,
   "metadata": {},
   "outputs": [
    {
     "name": "stdout",
     "output_type": "stream",
     "text": [
      "57.6650390625\n"
     ]
    }
   ],
   "source": [
    "print ((((1+2)*3)/4)**5)"
   ]
  },
  {
   "cell_type": "code",
   "execution_count": 11,
   "metadata": {},
   "outputs": [
    {
     "name": "stdout",
     "output_type": "stream",
     "text": [
      "Programming in Python is fun!\n"
     ]
    }
   ],
   "source": [
    "#Practice Quiz: Hellow World\n",
    "#4. Output a message that says \"Programming in Python is fun!\" to the screen.\n",
    "print(\"Programming in Python is fun!\")"
   ]
  },
  {
   "cell_type": "code",
   "execution_count": 12,
   "metadata": {},
   "outputs": [
    {
     "name": "stdout",
     "output_type": "stream",
     "text": [
      "1.618033988749895\n"
     ]
    }
   ],
   "source": [
    "#5 Calculate the Golden ratio: (1+**(1/2)/2)\n",
    "ratio = (((1+(5**(1/2)))/2))\n",
    "print(ratio)\n"
   ]
  },
  {
   "cell_type": "code",
   "execution_count": null,
   "metadata": {},
   "outputs": [],
   "source": []
  }
 ],
 "metadata": {
  "kernelspec": {
   "display_name": "Python 3",
   "language": "python",
   "name": "python3"
  },
  "language_info": {
   "codemirror_mode": {
    "name": "ipython",
    "version": 3
   },
   "file_extension": ".py",
   "mimetype": "text/x-python",
   "name": "python",
   "nbconvert_exporter": "python",
   "pygments_lexer": "ipython3",
   "version": "3.8.5"
  }
 },
 "nbformat": 4,
 "nbformat_minor": 4
}
